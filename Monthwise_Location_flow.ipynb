{
 "cells": [
  {
   "cell_type": "code",
   "execution_count": 1,
   "id": "b6176916-0d18-41d4-b055-c57f563d7c77",
   "metadata": {},
   "outputs": [],
   "source": [
    "import pandas as pd\n",
    "from sqlalchemy import create_engine\n",
    "from sqlalchemy import MetaData, Table\n",
    "import pymysql\n",
    "from urllib.parse import quote\n",
    "from datetime import datetime, timedelta\n"
   ]
  },
  {
   "cell_type": "code",
   "execution_count": 2,
   "id": "6f0c58b5-b86c-4c07-be93-c336319b7614",
   "metadata": {},
   "outputs": [],
   "source": [
    "sint_username = \"New-anamika\"\n",
    "sint_password = \"amb0!2s)f*xL3-+@1d$cM45\"\n",
    "sint_host = 'live-si-db.c83fh8gbkqpw.ap-south-1.rds.amazonaws.com'\n",
    "sint_port = \"3306\"\n",
    "sint_db_name = \"sinterface\"\n",
    "sint_pwd = quote(sint_password)\n",
    "sint = f\"mysql+mysqlconnector://{sint_username}:{sint_pwd}@{sint_host}:{sint_port}/{sint_db_name}\""
   ]
  },
  {
   "cell_type": "code",
   "execution_count": 3,
   "id": "40e7a1d7-7e4a-4c2f-a110-b9c9b3c974d7",
   "metadata": {},
   "outputs": [],
   "source": [
    "spot_username = \"anamika\"\n",
    "spot_password = 'Ma8(2Ha1@39\"gI4$5&d!+gU'\n",
    "spot_host = 'spotlight-googlelookerreadreplica1.c83fh8gbkqpw.ap-south-1.rds.amazonaws.com'\n",
    "spot_port = \"3306\"\n",
    "spot_db_name = \"verification_myspotlight\"\n",
    "spot_pwd = quote(spot_password)\n",
    "spot = f\"mysql+mysqlconnector://{spot_username}:{spot_pwd}@{spot_host}:{spot_port}/{spot_db_name}\""
   ]
  },
  {
   "cell_type": "code",
   "execution_count": 4,
   "id": "51718632-6156-44fa-82ec-10e5dea184d6",
   "metadata": {},
   "outputs": [],
   "source": [
    "sinterface = create_engine(sint)\n",
    "spotlight = create_engine(spot)"
   ]
  },
  {
   "cell_type": "code",
   "execution_count": null,
   "id": "cd1de075-35d8-4bf6-8703-b56276d4c0bc",
   "metadata": {},
   "outputs": [],
   "source": []
  },
  {
   "cell_type": "code",
   "execution_count": null,
   "id": "07447834-0d5d-4e11-9a2d-a1f0f645417c",
   "metadata": {},
   "outputs": [],
   "source": [
    "raw = pd.read_csv('D:/Ops_Productivity/Month wise/raw.csv')"
   ]
  },
  {
   "cell_type": "code",
   "execution_count": null,
   "id": "89313174-0cf2-4ed2-86ea-15076fb2bfed",
   "metadata": {},
   "outputs": [],
   "source": [
    "verify = pd.read_csv('D:/Ops_Productivity/Month wise/verified.csv')"
   ]
  },
  {
   "cell_type": "code",
   "execution_count": null,
   "id": "497c7c20-5dd4-4b8f-9baf-eb872d8c5f88",
   "metadata": {},
   "outputs": [],
   "source": [
    "gmb= pd.read_csv('D:/Ops_Productivity/Month wise/GMB.csv')"
   ]
  },
  {
   "cell_type": "code",
   "execution_count": null,
   "id": "65e40788-b297-44d9-a752-9c1cc080d119",
   "metadata": {},
   "outputs": [],
   "source": [
    "raw['Timeline'] = pd.to_datetime(raw['Timeline'])\n",
    "verify['Timeline'] = pd.to_datetime(verify['Timeline'])\n",
    "gmb['Timeline'] = pd.to_datetime(gmb['Timeline'])"
   ]
  },
  {
   "cell_type": "code",
   "execution_count": null,
   "id": "8b051775-8b8e-43df-863d-f3d8eaa71048",
   "metadata": {},
   "outputs": [],
   "source": [
    "data1 = pd.merge(raw, verify, how = 'left', on = ['Timeline'] )"
   ]
  },
  {
   "cell_type": "code",
   "execution_count": null,
   "id": "79e0e3a5-9d23-4fc6-99e2-7d80c1468a0e",
   "metadata": {},
   "outputs": [],
   "source": [
    "data2 = pd.merge(data1, gmb, how = 'left', on = ['Timeline'])"
   ]
  },
  {
   "cell_type": "code",
   "execution_count": null,
   "id": "b740964b-5952-4cf1-912b-2b33c367885b",
   "metadata": {},
   "outputs": [],
   "source": [
    "data2.to_csv('month_level_data.csv')"
   ]
  },
  {
   "cell_type": "code",
   "execution_count": null,
   "id": "be45d0fa-58e1-4d2e-be75-b7f1dc06c40f",
   "metadata": {},
   "outputs": [],
   "source": [
    "raw_query = '''\n",
    "SELECT \n",
    "upper(orderCode) as order_code,\n",
    "`name` as verification_brand_name,\n",
    "count(r.id) as raw_location,\n",
    "DATE_FORMAT((case when is_uploded = 0 then (date(r.created_at)) else (date(JSON_EXTRACT(row_data, '$[0]')))  end),  '%Y-%m-01')as Timeline\n",
    "FROM verification_myspotlight.raw_locations r\n",
    "inner join brands on brands.id = r.brand_id\n",
    "where is_deleted = 0 \n",
    "group by order_code, Timeline\n",
    "having Timeline between '2023-01-01' and '2024-12-01' and order_code is not null and  order_code != '';\n",
    "'''"
   ]
  },
  {
   "cell_type": "code",
   "execution_count": null,
   "id": "6994cdb7-dc63-4af5-b38b-e579a5dc9c35",
   "metadata": {},
   "outputs": [],
   "source": [
    "verified_query = '''\n",
    "SELECT \n",
    "upper(orderCode) as order_code,\n",
    "count(CASE WHEN (call_status = 'Verification done' or call_status = 5) THEN ( vr.raw_location_id) END) as verified_location,\n",
    "count(CASE WHEN (call_status = 'Closed' or call_status = 15) THEN (vr.raw_location_id) END) as verified_closed_location,\n",
    "DATE_FORMAT(verifiedDate,  '%Y-%m-01') as Timeline\n",
    "FROM verification_myspotlight.verified_locations vr\n",
    "inner join brands on brands.id = vr.brand_id\n",
    "where is_deleted = 0 and verifiedDate between '2023-01-01' and '2024-12-01'\n",
    "group by order_code, Timeline\n",
    "having order_code is not null and  order_code != '';\n",
    "'''\n"
   ]
  },
  {
   "cell_type": "code",
   "execution_count": null,
   "id": "2acb8494-a6c1-425d-8771-6208944f2248",
   "metadata": {},
   "outputs": [],
   "source": [
    "SI_Query = '''\n",
    "select \n",
    "parent_id as master_outlet_id,\n",
    "upper(orders.order_code) as order_code,\n",
    "COUNT(CASE WHEN delete_outlet IS NULL AND close_outlet IS NULL and parent_id is not null THEN outlets.id END) AS SI_live,\n",
    "count(case when delete_outlet = 1 and close_outlet is  null then (outlets.id) end) as SI_delete_outlet,\n",
    "count(case when close_outlet = 1 and delete_outlet is null then (outlets.id) end) as SI_closed_outlet,\n",
    "min(case when parent_id is not null then date(outlets.created) end) as SI_Live_date,\n",
    "DATE_FORMAT(outlets.created,  '%Y-%m-01') as Timeline\n",
    "from outlets\n",
    "left join orders on orders.id = outlets.order_id\n",
    "where (outlets.created) between '2023-01-01 00:00:00' and '2024-12-31 23:59:59' \n",
    "group by parent_id, Timeline ;\n",
    "'''"
   ]
  },
  {
   "cell_type": "code",
   "execution_count": null,
   "id": "bcc78050-134b-4ac5-8c9c-f67b1ffc0750",
   "metadata": {},
   "outputs": [],
   "source": [
    "gmb_query = '''\n",
    "Select \n",
    "master_outlet_id,\n",
    "count(case when is_published = 1 then outlet_id end) as GMB_Live,\n",
    "count(case when is_published = 0 then outlet_id end) as Pending_GMB_Live,\n",
    "min(date(created)) as GMB_Live_date,\n",
    "DATE_FORMAT(created,  '%Y-%m-01') as Timeline\n",
    "from google_location_datas\n",
    "where created between '2023-01-01 00:00:00' and '2024-12-31 23:59:59' \n",
    "group by master_outlet_id, Timeline\n",
    "having master_outlet_id is not null and master_outlet_id != '' and master_outlet_id !=0\n",
    "'''"
   ]
  },
  {
   "cell_type": "code",
   "execution_count": null,
   "id": "1fc65b36-dd82-4f00-9f04-b6a53098d240",
   "metadata": {},
   "outputs": [],
   "source": [
    "brand_query =  '''\n",
    "select \n",
    "wb.brand_name as wo_brand_name,\n",
    "orders.order_code as order_code,\n",
    "orders.id as order_id,\n",
    "orders.wo_customer_id,\n",
    "orders.order_status,\n",
    "wa.total_locations AS Signed_location,\n",
    "date(orders.created) as order_creation_date,\n",
    "case when outlets.parent_id is null then outlets.id end  as master_outlet_id\n",
    "from wo_customers wc\n",
    "left join wo_brands wb on wb.wo_customer_id = wc.id\n",
    "left join wo_agreements wa on wa.wo_customer_id = wc.id\n",
    "left join orders on orders.wo_customer_id = wc.id\n",
    "left join outlets on outlets.order_id = orders.id \n",
    "group by wo_customer_id;\n",
    "'''"
   ]
  },
  {
   "cell_type": "code",
   "execution_count": null,
   "id": "98bcbed4-35a9-4744-b227-cf9491e00d1b",
   "metadata": {},
   "outputs": [],
   "source": [
    "raw = pd.read_sql(raw_query, con = spotlight)"
   ]
  },
  {
   "cell_type": "code",
   "execution_count": null,
   "id": "2a276c59-30e6-4346-8f28-ab6781c71bd5",
   "metadata": {},
   "outputs": [],
   "source": [
    "verified = pd.read_sql(verified_query, con = spotlight)"
   ]
  },
  {
   "cell_type": "code",
   "execution_count": null,
   "id": "f631fdd4-498c-4713-b2bc-970bd68a1847",
   "metadata": {},
   "outputs": [],
   "source": [
    "si = pd.read_sql(SI_Query, con=sinterface)"
   ]
  },
  {
   "cell_type": "code",
   "execution_count": null,
   "id": "9ed09427-9dfe-4894-92ba-78b393d24a62",
   "metadata": {},
   "outputs": [],
   "source": [
    "gmb = pd.read_sql(gmb_query, con= sinterface)"
   ]
  },
  {
   "cell_type": "code",
   "execution_count": null,
   "id": "ea414597-fbd7-4ee3-a514-fbbaec957e6c",
   "metadata": {},
   "outputs": [],
   "source": [
    "brand = pd.read_sql(brand_query, con= sinterface)"
   ]
  },
  {
   "cell_type": "code",
   "execution_count": null,
   "id": "ce6552ae-3da8-4d38-ab5b-8b4490405f45",
   "metadata": {},
   "outputs": [],
   "source": [
    "brand['master_outlet_id'] =  brand['master_outlet_id'].astype('float')"
   ]
  },
  {
   "cell_type": "code",
   "execution_count": null,
   "id": "058fa977-9721-46da-b77a-5a1a108eb329",
   "metadata": {},
   "outputs": [],
   "source": [
    "data1 = pd.merge(raw, verified, on = ['order_code', 'Timeline'], how = 'outer')"
   ]
  },
  {
   "cell_type": "code",
   "execution_count": null,
   "id": "dcb12772-7c83-49aa-953b-0ddc7b8155ee",
   "metadata": {},
   "outputs": [],
   "source": [
    "data2 = pd.merge(data1,si, on = ['order_code', 'Timeline'], how = 'outer')"
   ]
  },
  {
   "cell_type": "code",
   "execution_count": null,
   "id": "f29e4912-137a-4a50-b7fe-30bdd0e7c762",
   "metadata": {},
   "outputs": [],
   "source": [
    "data3 = pd.merge(data2, gmb, on= ['master_outlet_id', 'Timeline'], how = 'outer' )"
   ]
  },
  {
   "cell_type": "code",
   "execution_count": null,
   "id": "fb47b39d-7e17-41a1-b04d-43cbf6495cd6",
   "metadata": {},
   "outputs": [],
   "source": [
    "data4 = pd.merge(data3, brand, on=['master_outlet_id', 'order_code'], how = 'outer')"
   ]
  },
  {
   "cell_type": "code",
   "execution_count": null,
   "id": "837c2eb0-5162-4d55-bad6-8dcefe3c0898",
   "metadata": {},
   "outputs": [],
   "source": [
    "data4['Timeline'] = pd.to_datetime(data4['Timeline'])"
   ]
  },
  {
   "cell_type": "code",
   "execution_count": null,
   "id": "4ec6373b-d9b9-4937-bce6-7e951c5c9d73",
   "metadata": {},
   "outputs": [],
   "source": [
    "data4 = data4.sort_values(by=['master_outlet_id', 'Timeline'], ascending = True)"
   ]
  },
  {
   "cell_type": "code",
   "execution_count": null,
   "id": "bd773878-1766-4122-915d-af22645a1251",
   "metadata": {},
   "outputs": [],
   "source": [
    "#data4['master_outlet_id'] =data4['master_outlet_id'].astype('int')\n",
    "data4['SI_live'].fillna(0, inplace=True)\n",
    "data4['GMB_Live'].fillna(0, inplace=True)\n",
    "\n",
    "\n",
    "data4['SI_live'] = data4['SI_live'] .astype('int')\n",
    "data4['GMB_Live'] = data4['GMB_Live'] .astype('int')"
   ]
  },
  {
   "cell_type": "code",
   "execution_count": null,
   "id": "18617857-c898-4ea1-8cf9-795ce1c3c38f",
   "metadata": {},
   "outputs": [],
   "source": [
    "data4['SI_Live_diff'] = data4.groupby(['master_outlet_id'])['SI_live'].diff()\n",
    "data4['GMB_Live_diff'] = data4.groupby(['master_outlet_id'])['GMB_Live'].diff()"
   ]
  },
  {
   "cell_type": "code",
   "execution_count": null,
   "id": "c3bcd199-6ea4-420a-80be-ea82007d2658",
   "metadata": {},
   "outputs": [],
   "source": [
    "data4.columns"
   ]
  },
  {
   "cell_type": "code",
   "execution_count": null,
   "id": "bc104337-3d09-41b7-bfb3-2b0ce5faac82",
   "metadata": {},
   "outputs": [],
   "source": [
    "data4.to_csv('verification_Live_loc_chanages.csv', index = False)"
   ]
  },
  {
   "cell_type": "markdown",
   "id": "95750f0e-bbe0-424f-bdd1-5c235db754dc",
   "metadata": {},
   "source": [
    "# Faltu ka"
   ]
  },
  {
   "cell_type": "code",
   "execution_count": 14,
   "id": "5d98c2d0-acd0-473e-8ea1-e7a04730bbd2",
   "metadata": {},
   "outputs": [],
   "source": [
    "verification_data = '''\n",
    "SELECT \n",
    "`name` as veri_brand_name,\n",
    "upper(orderCode) as order_code,\n",
    "count(r.id) as raw_location,\n",
    "count(case when rec.call_status in (15,18,13,21,14,19,11,4,6,16,17) or rec.call_status in ('Closed','Duplicate', 'Not Cooperating', 'Not verifiable', 'Incomplete data', 'Toll-Free Number', 'Call back later','Not connected','Wrong Number', 'Language Issue', 'Location Pending')  then rec.id end) as unverifiable_location,\n",
    "count(CASE WHEN (vr.call_status = 'Verification done' or vr.call_status = 5) THEN ( vr.raw_location_id) END) as verified_location,\n",
    "count(CASE WHEN (vr.call_status = 'Closed' or vr.call_status = 15) THEN (vr.raw_location_id) END) as verified_closed_location,\n",
    "DATE_FORMAT((case when r.is_uploded = 0 then (date(r.created_at)) else (date(JSON_EXTRACT(row_data, '$[0]')))  end),  '%Y-%m-01')as Timeline\n",
    "FROM verification_myspotlight.raw_locations r\n",
    "left join rectified_locations rec on rec.raw_location_id = r.id\n",
    "left join verified_locations vr on vr.raw_location_id = r.id\n",
    "inner join brands on brands.id = r.brand_id\n",
    "where is_deleted = 0 and orderCode is not null and orderCode != ''\n",
    "group by order_code, Timeline\n",
    "having Timeline between '2023-01-01' and '2024-12-01';\n",
    "'''"
   ]
  },
  {
   "cell_type": "code",
   "execution_count": null,
   "id": "172accaf-ad1c-46b3-9301-f8a94697d2f8",
   "metadata": {},
   "outputs": [],
   "source": [
    "si_append_query =  '''\n",
    "select \n",
    "wb.brand_name as wo_brand_name,\n",
    "orders.order_code as order_code,\n",
    "orders.id as order_id,\n",
    "orders.wo_customer_id,\n",
    "COUNT(CASE WHEN delete_outlet IS NULL AND close_outlet IS NULL and parent_id is not null THEN outlets.id END) AS SI_live,\n",
    "count(case when delete_outlet = 1 and close_outlet is  null then (outlets.id) end) as SI_delete_outlet,\n",
    "count(case when close_outlet = 1 and delete_outlet is null then (outlets.id) end) as SI_closed_outlet,\n",
    "count(case when is_published = 1 then outlet_id end) as GMB_Live,\n",
    "min(case when parent_id is not null then outlets.created end) as SI_Live,\n",
    "min(date(gd.created)) as GMB_Live,\n",
    "wa.total_locations as Signed_location,\n",
    "date(orders.created) as order_creation_date,\n",
    "'2023-01-01'as Timeline\n",
    "from wo_customers wc\n",
    "left join wo_brands wb on wb.wo_customer_id = wc.id\n",
    "left join wo_agreements wa on wa.wo_customer_id = wc.id\n",
    "left join wo_pricing_details wp on wp.wo_customer_id = wc.id\n",
    "left join orders on orders.wo_customer_id = wc.id\n",
    "left join outlets on outlets.order_id = orders.id \n",
    "left join google_location_datas gd on gd.master_outlet_id = outlets.parent_id and gd.outlet_id = outlets.id\n",
    "where orders.created <= '2023-01-01 00:00:00' \n",
    "group by wo_customer_id, Timeline;\n",
    "'''\n",
    "jan_data = pd.read_sql(si_append_query, con=sinterface)"
   ]
  },
  {
   "cell_type": "code",
   "execution_count": 15,
   "id": "3c2c9a81-69fc-4f36-b82b-4c9c9d5a1cf9",
   "metadata": {},
   "outputs": [],
   "source": [
    "verific_data = pd.read_sql(verification_data, con=spotlight)"
   ]
  },
  {
   "cell_type": "code",
   "execution_count": 16,
   "id": "f88deb0e-ee5d-4172-a6b2-318c5d43674a",
   "metadata": {},
   "outputs": [],
   "source": [
    "verific_data['Timeline'] = pd.to_datetime(verific_data['Timeline'])"
   ]
  },
  {
   "cell_type": "code",
   "execution_count": null,
   "id": "7a47bdb7-6692-41b6-b86f-816798b1ca24",
   "metadata": {},
   "outputs": [],
   "source": [
    "verific_data\n"
   ]
  },
  {
   "cell_type": "code",
   "execution_count": null,
   "id": "3d0f7a07-000b-4dba-8df8-192d2f99aaec",
   "metadata": {},
   "outputs": [],
   "source": []
  },
  {
   "cell_type": "code",
   "execution_count": 5,
   "id": "92225bce-f577-4ac6-a394-d78691c2686b",
   "metadata": {},
   "outputs": [],
   "source": [
    "start_date = datetime(2023, 1, 1)\n",
    "end_date = datetime(2024, 12, 31)\n"
   ]
  },
  {
   "cell_type": "code",
   "execution_count": 6,
   "id": "b0d0452a-d097-447c-a06f-46ca55f17bb3",
   "metadata": {},
   "outputs": [],
   "source": [
    "final_df = pd.DataFrame()\n",
    "dataframes = []\n"
   ]
  },
  {
   "cell_type": "code",
   "execution_count": 7,
   "id": "0bb16159-ec7a-4304-b143-2abcdaf80eae",
   "metadata": {},
   "outputs": [],
   "source": [
    "current_date = start_date\n"
   ]
  },
  {
   "cell_type": "code",
   "execution_count": 9,
   "id": "65fc367b-00a9-4ce3-8dba-672c422d98b8",
   "metadata": {},
   "outputs": [
    {
     "name": "stdout",
     "output_type": "stream",
     "text": [
      "(140, 17)\n",
      "Data for 2023-01-01 to 2023-01-31 appended successfully\n",
      "(147, 17)\n",
      "Data for 2023-02-01 to 2023-02-28 appended successfully\n",
      "(160, 17)\n",
      "Data for 2023-03-01 to 2023-03-31 appended successfully\n",
      "(167, 17)\n",
      "Data for 2023-04-01 to 2023-04-30 appended successfully\n",
      "(185, 17)\n",
      "Data for 2023-05-01 to 2023-05-31 appended successfully\n",
      "(197, 17)\n",
      "Data for 2023-06-01 to 2023-06-30 appended successfully\n",
      "(210, 17)\n",
      "Data for 2023-07-01 to 2023-07-31 appended successfully\n",
      "(221, 17)\n",
      "Data for 2023-08-01 to 2023-08-31 appended successfully\n",
      "(229, 17)\n",
      "Data for 2023-09-01 to 2023-09-30 appended successfully\n",
      "(241, 17)\n",
      "Data for 2023-10-01 to 2023-10-31 appended successfully\n",
      "(251, 17)\n",
      "Data for 2023-11-01 to 2023-11-30 appended successfully\n",
      "(264, 17)\n",
      "Data for 2023-12-01 to 2023-12-31 appended successfully\n",
      "(274, 17)\n",
      "Data for 2024-01-01 to 2024-01-31 appended successfully\n",
      "(283, 17)\n",
      "Data for 2024-02-01 to 2024-02-29 appended successfully\n",
      "(297, 17)\n",
      "Data for 2024-03-01 to 2024-03-31 appended successfully\n",
      "(309, 17)\n",
      "Data for 2024-04-01 to 2024-04-30 appended successfully\n",
      "(324, 17)\n",
      "Data for 2024-05-01 to 2024-05-31 appended successfully\n",
      "(336, 17)\n",
      "Data for 2024-06-01 to 2024-06-30 appended successfully\n",
      "(357, 17)\n",
      "Data for 2024-07-01 to 2024-07-31 appended successfully\n",
      "(370, 17)\n",
      "Data for 2024-08-01 to 2024-08-31 appended successfully\n",
      "(393, 17)\n",
      "Data for 2024-09-01 to 2024-09-30 appended successfully\n",
      "(403, 17)\n",
      "Data for 2024-10-01 to 2024-10-31 appended successfully\n",
      "(437, 17)\n",
      "Data for 2024-11-01 to 2024-11-30 appended successfully\n",
      "(447, 17)\n",
      "Data for 2024-12-01 to 2024-12-31 appended successfully\n"
     ]
    }
   ],
   "source": [
    "dataframes = []\n",
    "while current_date <= end_date:\n",
    "    # Get the first day of the current month\n",
    "    month_start = pd.Timestamp(current_date).replace(day=1)\n",
    "    \n",
    "    # Get the last day of the current month using MonthEnd\n",
    "    month_end = (month_start + pd.DateOffset(months=1)) - pd.DateOffset(days=1)\n",
    "\n",
    "    # Create dynamic SQL query\n",
    "    query = f\"\"\"\n",
    "    SELECT \n",
    "        wb.brand_name AS wo_brand_name,\n",
    "        wm.order_code AS order_code,\n",
    "        orders.id AS order_id,\n",
    "        outlets.parent_id as masater_outlet_id,\n",
    "        wc.wo_customer_id as wc_wo_customer_id,\n",
    "        orders.wo_customer_id as orders_wo_customer_id,\n",
    "        orders.order_status,\n",
    "        COUNT(CASE WHEN delete_outlet IS NULL AND close_outlet IS NULL and parent_id is not null THEN outlets.id END) AS SI_live,\n",
    "        COUNT(CASE WHEN delete_outlet = 1 AND close_outlet IS NULL THEN outlets.id END) AS SI_delete_outlet,\n",
    "        COUNT(CASE WHEN close_outlet = 1 AND delete_outlet IS NULL THEN outlets.id END) AS SI_closed_outlet,\n",
    "        COUNT(CASE WHEN is_published = 1 THEN outlet_id END) AS GMB_Live,\n",
    "        (case when wp.fixed_price_amount is null then wa.monthly_revenue else wp.fixed_price_amount end) as Contracted_Revenue,\n",
    "        wp.currency_for_pricing as Currenncy,\n",
    "        min(case when parent_id is not null then outlets.created end) as SI_Live_date,\n",
    "        MIN(DATE(gd.created)) AS GMB_Live_date,\n",
    "        wa.total_locations AS Signed_location,\n",
    "        DATE(orders.created) AS order_creation_date\n",
    "        -- DATE_FORMAT(orders.created, '%Y-%m-01') AS Timeline\n",
    "    FROM wo_customers wc\n",
    "    LEFT JOIN wo_brands wb ON wb.wo_customer_id = wc.id\n",
    "    LEFT JOIN wo_agreements wa ON wa.wo_customer_id = wc.id\n",
    "    LEFT JOIN wo_pricing_details wp ON wp.wo_customer_id = wc.id\n",
    "    left join wo_miscellaneouses wm on wm.wo_customer_id = wc.id\n",
    "    LEFT JOIN orders ON orders.wo_customer_id = wb.wo_customer_id\n",
    "    LEFT JOIN outlets ON outlets.order_id = orders.id and outlets.created <= '{month_end.strftime('%Y-%m-%d 00:00:00')}'\n",
    "    LEFT JOIN google_location_datas gd ON gd.master_outlet_id = outlets.parent_id AND gd.outlet_id = outlets.id and gd.created <= '{month_end.strftime('%Y-%m-%d 00:00:00')}'\n",
    "    WHERE orders.created <= '{month_end.strftime('%Y-%m-%d 00:00:00')}'   \n",
    "    GROUP BY orders.wo_customer_id;\n",
    "    \"\"\"\n",
    "\n",
    "    # Fetch the result and append to the final DataFrame\n",
    "    month_df = pd.read_sql(query, con=sinterface)\n",
    "    print(month_df.shape)\n",
    "    if not month_df.empty:\n",
    "        # Add Timeline column with the format 'Y-m-01'\n",
    "        month_df = month_df.assign(Timeline=month_start.strftime('%Y-%m-01'))\n",
    "        dataframes.append(month_df)\n",
    "        print(f\"Data for {month_start.strftime('%Y-%m-%d')} to {month_end.strftime('%Y-%m-%d')} appended successfully\")\n",
    "    else:\n",
    "        print(f\"No data for {month_start.strftime('%Y-%m-%d')} to {month_end.strftime('%Y-%m-%d')}\")\n",
    "\n",
    "    dataframes.append(month_df)\n",
    "    # Move to the next month\n",
    "    current_date = month_end + pd.DateOffset(days=1)  # Start of next month\n"
   ]
  },
  {
   "cell_type": "code",
   "execution_count": 10,
   "id": "446bc461-58da-403b-8279-1f0822d9c9c1",
   "metadata": {},
   "outputs": [],
   "source": [
    "final_df = pd.concat(dataframes, ignore_index=True)"
   ]
  },
  {
   "cell_type": "code",
   "execution_count": 11,
   "id": "4cb92342-1d09-4c5a-b2ef-5056d1a6c5c0",
   "metadata": {},
   "outputs": [],
   "source": [
    "final_df['Timeline'] =  pd.to_datetime(final_df['Timeline'], format = '%Y-%m-%d')"
   ]
  },
  {
   "cell_type": "code",
   "execution_count": 12,
   "id": "deb748e4-7bb4-4224-983a-c0b449e21870",
   "metadata": {},
   "outputs": [],
   "source": [
    "final_df = final_df.drop_duplicates()"
   ]
  },
  {
   "cell_type": "code",
   "execution_count": 17,
   "id": "fb6917bb-72f4-4e73-b1be-b8523ee2bf55",
   "metadata": {},
   "outputs": [],
   "source": [
    "final_verif = pd.merge(verific_data, final_df, how = 'outer', left_on = ['order_code', 'Timeline'], right_on = ['order_code', 'Timeline'])"
   ]
  },
  {
   "cell_type": "code",
   "execution_count": 18,
   "id": "99cba262-e186-482f-ae47-3cf14e762323",
   "metadata": {},
   "outputs": [
    {
     "data": {
      "text/plain": [
       "Index(['veri_brand_name', 'order_code', 'raw_location',\n",
       "       'unverifiable_location', 'verified_location',\n",
       "       'verified_closed_location', 'Timeline', 'wo_brand_name', 'order_id',\n",
       "       'masater_outlet_id', 'wc_wo_customer_id', 'orders_wo_customer_id',\n",
       "       'order_status', 'SI_live', 'SI_delete_outlet', 'SI_closed_outlet',\n",
       "       'GMB_Live', 'Contracted_Revenue', 'Currenncy', 'SI_Live_date',\n",
       "       'GMB_Live_date', 'Signed_location', 'order_creation_date'],\n",
       "      dtype='object')"
      ]
     },
     "execution_count": 18,
     "metadata": {},
     "output_type": "execute_result"
    }
   ],
   "source": [
    "final_verif.columns"
   ]
  },
  {
   "cell_type": "code",
   "execution_count": 19,
   "id": "9c17c2f4-3468-4c85-8923-df390cfc956f",
   "metadata": {},
   "outputs": [],
   "source": [
    "final_verif = final_verif.sort_values(by=['order_id', 'Timeline'], ascending = True)"
   ]
  },
  {
   "cell_type": "code",
   "execution_count": 20,
   "id": "41dcf7ad-e390-4dfd-bf04-7a28cebf54f8",
   "metadata": {},
   "outputs": [],
   "source": [
    "final_verif['SI_Live_diff'] = final_verif.groupby(['order_id'])['SI_live'].diff()\n",
    "final_verif['GMB_Live_diff'] = final_verif.groupby(['order_id'])['GMB_Live'].diff()"
   ]
  },
  {
   "cell_type": "code",
   "execution_count": 21,
   "id": "5f59c19c-56ab-4623-aac8-3ab4c53804e3",
   "metadata": {},
   "outputs": [],
   "source": [
    "final_verif.to_csv('final_verif_new_location.csv')"
   ]
  },
  {
   "cell_type": "code",
   "execution_count": null,
   "id": "7bb7d189-513a-4b88-afd4-a03846ec44b6",
   "metadata": {},
   "outputs": [],
   "source": [
    "final_df['SI_live'].unique()"
   ]
  },
  {
   "cell_type": "code",
   "execution_count": null,
   "id": "39a9e118-4ce2-4e3e-baff-dd678762b72d",
   "metadata": {},
   "outputs": [],
   "source": [
    "final_df.to_csv('signed_live_funnel_log.csv', index = False)"
   ]
  },
  {
   "cell_type": "code",
   "execution_count": null,
   "id": "82331fef-af98-496b-9fab-7bf8a257a090",
   "metadata": {},
   "outputs": [],
   "source": [
    "len(final_df['order_id'].unique())"
   ]
  },
  {
   "cell_type": "code",
   "execution_count": null,
   "id": "99d41090-ff26-4102-a9cc-0d50f22c9434",
   "metadata": {},
   "outputs": [],
   "source": [
    "#final_df"
   ]
  },
  {
   "cell_type": "code",
   "execution_count": null,
   "id": "0dbe34b4-49a7-4c29-aec7-2b248f447470",
   "metadata": {},
   "outputs": [],
   "source": [
    "raw_data =  pd.read_sql(raw_query, con=spotlight)"
   ]
  },
  {
   "cell_type": "code",
   "execution_count": null,
   "id": "9afe0d20-935f-4032-b3f4-11e017f7684e",
   "metadata": {},
   "outputs": [],
   "source": [
    "verified_data = pd.read_sql(verified_query, con=spotlight)"
   ]
  },
  {
   "cell_type": "code",
   "execution_count": null,
   "id": "64031b10-69a7-4ee3-ad4f-1eb2830f0b97",
   "metadata": {},
   "outputs": [],
   "source": [
    "SI_data = pd.read_sql(SI_Query, con=sinterface)"
   ]
  },
  {
   "cell_type": "code",
   "execution_count": null,
   "id": "629d9fdd-b023-4d0e-8320-860f25a1dee9",
   "metadata": {},
   "outputs": [],
   "source": [
    "gmb_data = pd.read_sql(gmb_query, con=sinterface)"
   ]
  },
  {
   "cell_type": "markdown",
   "id": "d3b706e3-ba35-48d8-b817-4078c2ce8eac",
   "metadata": {},
   "source": [
    "# Starts from here"
   ]
  },
  {
   "cell_type": "code",
   "execution_count": null,
   "id": "2f814de8-5f9d-43df-9d90-b882f8d0d96f",
   "metadata": {},
   "outputs": [],
   "source": [
    "start_date = datetime(2023, 1, 1)\n",
    "end_date = datetime(2024, 12, 31)\n"
   ]
  },
  {
   "cell_type": "code",
   "execution_count": null,
   "id": "9a025470-fccf-4f85-9b26-3afb3e677087",
   "metadata": {},
   "outputs": [],
   "source": [
    "current_date = start_date\n",
    "final_df_si_gmb = pd.DataFrame()\n"
   ]
  },
  {
   "cell_type": "code",
   "execution_count": null,
   "id": "9c87a1a8-4646-4e31-83eb-58136de7292b",
   "metadata": {},
   "outputs": [],
   "source": [
    "final_df_si_gmb = pd.DataFrame()\n",
    "final_df_gmb = pd.DataFrame()\n",
    "final_df_si = pd.DataFrame()\n",
    "final_df_callonly = pd.DataFrame()\n",
    "final_df_hyper_x = pd.DataFrame()"
   ]
  },
  {
   "cell_type": "markdown",
   "id": "dfcaee08-6c70-4578-9bd1-82a22705f429",
   "metadata": {},
   "source": [
    "# SI_GMB"
   ]
  },
  {
   "cell_type": "code",
   "execution_count": null,
   "id": "05f1b3d0-cc6d-4e17-9f5d-4eb82967c0f7",
   "metadata": {},
   "outputs": [],
   "source": [
    "final_df_si_gmb = pd.DataFrame()\n",
    "\n",
    "start_date = datetime(2023, 1, 1)\n",
    "end_date = datetime(2024, 12, 31)\n",
    "current_date = start_date\n",
    "\n",
    "dataframes_sigmb = []\n",
    "while current_date <= end_date:\n",
    "    # Get the first day of the current month\n",
    "    month_start = pd.Timestamp(current_date).replace(day=1)\n",
    "    \n",
    "    # Get the last day of the current month using MonthEnd\n",
    "    month_end = (month_start + pd.DateOffset(months=1)) - pd.DateOffset(days=1)\n",
    "\n",
    "    query_si_gmb = f'''\n",
    "    SELECT \n",
    "        wb.brand_name AS wo_brand_name,\n",
    "        wm.order_code AS order_code,\n",
    "        orders.id AS order_id,\n",
    "        outlets.parent_id as master_outlet_id,\n",
    "        orders.order_status,\n",
    "        COUNT(CASE WHEN delete_outlet IS NULL AND close_outlet IS NULL and parent_id is not null THEN outlets.id END) AS SI_live,\n",
    "        COUNT(CASE WHEN is_published = 1 THEN outlet_id END) AS GMB_Live\n",
    "    FROM wo_customers wc\n",
    "    LEFT JOIN wo_brands wb ON wb.wo_customer_id = wc.id\n",
    "    left join wo_miscellaneouses wm on wm.wo_customer_id = wc.id\n",
    "    LEFT JOIN orders ON orders.wo_customer_id = wb.wo_customer_id\n",
    "    LEFT JOIN outlets ON outlets.order_id = orders.id AND  outlets.created <='{month_end.strftime('%Y-%m-%d 23:59:59')}'\n",
    "    LEFT JOIN google_location_datas gd ON gd.master_outlet_id = outlets.parent_id AND gd.outlet_id = outlets.id and gd.created <= '{month_end.strftime('%Y-%m-%d 23:59:59')}'\n",
    "    WHERE orders.created <= '{month_end.strftime('%Y-%m-%d 23:59:59')}' and orders.wo_customer_id not in (1,331,332,339,257,262,295,353)\n",
    "    GROUP BY orders.wo_customer_id;\n",
    "    '''\n",
    "    \n",
    "    month_df_sigmb = pd.read_sql(query_si_gmb, con=sinterface)\n",
    "    print(month_df_sigmb.shape)\n",
    "    if not month_df_sigmb.empty:\n",
    "        # Add Timeline column with the format 'Y-m-01'\n",
    "        month_df_sigmb = month_df_sigmb.assign(Timeline=month_start.strftime('%Y-%m-01'))\n",
    "        dataframes_sigmb.append(month_df_sigmb)\n",
    "        print(f\"Data for {month_start.strftime('%Y-%m-%d')} to {month_end.strftime('%Y-%m-%d')} appended successfully\")\n",
    "    else:\n",
    "        print(f\"No data for {month_start.strftime('%Y-%m-%d')} to {month_end.strftime('%Y-%m-%d')}\")\n",
    "\n",
    "    dataframes_sigmb.append(month_df_sigmb)\n",
    "    # Move to the next month\n",
    "    current_date = month_end + pd.DateOffset(days=1)  # Start of next month\n"
   ]
  },
  {
   "cell_type": "code",
   "execution_count": null,
   "id": "9f9455de-a0df-4ab6-aa95-2416016808dc",
   "metadata": {},
   "outputs": [],
   "source": [
    "final_df_si_gmb = pd.concat(dataframes_sigmb, ignore_index=True)"
   ]
  },
  {
   "cell_type": "code",
   "execution_count": null,
   "id": "e6064f27-e7d4-4396-aef1-b1ebb5800ad8",
   "metadata": {},
   "outputs": [],
   "source": [
    "final_df_si_gmb = final_df_si_gmb.drop_duplicates(subset = ['master_outlet_id', 'Timeline'])"
   ]
  },
  {
   "cell_type": "code",
   "execution_count": null,
   "id": "d013ffe6-24dd-4de0-845c-b331efecd609",
   "metadata": {},
   "outputs": [],
   "source": [
    "final_df_si_gmb"
   ]
  },
  {
   "cell_type": "markdown",
   "id": "d1fa53f0-450c-4b20-8f05-29b5f193f849",
   "metadata": {},
   "source": [
    "# GMB"
   ]
  },
  {
   "cell_type": "code",
   "execution_count": null,
   "id": "1361f8b4-9bd4-4f32-9fce-8990eb7af672",
   "metadata": {},
   "outputs": [],
   "source": [
    "final_df_gmb = pd.DataFrame()\n",
    "\n",
    "start_date = datetime(2023, 1, 1)\n",
    "end_date = datetime(2024, 12, 31)\n",
    "current_date = start_date\n",
    "dataframes_gmb = []\n",
    "while current_date <= end_date:\n",
    "    # Get the first day of the current month\n",
    "    month_start = pd.Timestamp(current_date).replace(day=1)\n",
    "    \n",
    "    # Get the last day of the current month using MonthEnd\n",
    "    month_end = (month_start + pd.DateOffset(months=1)) - pd.DateOffset(days=1)\n",
    "\n",
    "    query_gmb_only = f'''\n",
    "    SELECT    \n",
    "    \tgd.master_outlet_id,\n",
    "        SUM(gd.total_phone_call) AS GMB_calls\n",
    "        from  sinterface.gmb_insight_outlet_datas gd\n",
    "    where gd.cron_date between '{month_start.strftime('%Y-%m-%d')}' and '{month_end.strftime('%Y-%m-%d')}'\n",
    "    GROUP BY master_outlet_id;\n",
    "    '''\n",
    "    month_df_gmb = pd.read_sql(query_gmb_only, con=sinterface)\n",
    "    print(month_df_gmb.shape)\n",
    "    if not month_df_gmb.empty:\n",
    "        # Add Timeline column with the format 'Y-m-01'\n",
    "        month_df_gmb = month_df_gmb.assign(Timeline=month_start.strftime('%Y-%m-01'))\n",
    "        dataframes_gmb.append(month_df_gmb)\n",
    "        print(f\"Data for {month_start.strftime('%Y-%m-%d')} to {month_end.strftime('%Y-%m-%d')} appended successfully\")\n",
    "    else:\n",
    "        print(f\"No data for {month_start.strftime('%Y-%m-%d')} to {month_end.strftime('%Y-%m-%d')}\")\n",
    "\n",
    "    dataframes_gmb.append(month_df_gmb)\n",
    "    # Move to the next month\n",
    "    current_date = month_end + pd.DateOffset(days=1)  # Start of next month"
   ]
  },
  {
   "cell_type": "code",
   "execution_count": null,
   "id": "d5afa7f7-9461-410e-b380-afefc032731a",
   "metadata": {},
   "outputs": [],
   "source": [
    "final_df_gmb = pd.concat(dataframes_gmb, ignore_index=True)"
   ]
  },
  {
   "cell_type": "code",
   "execution_count": null,
   "id": "95d1194d-9f49-42ca-93e0-1ea1caf0ddaa",
   "metadata": {},
   "outputs": [],
   "source": [
    "final_df_gmb"
   ]
  },
  {
   "cell_type": "markdown",
   "id": "0dcc99f6-0998-4004-af34-9aae181adf5a",
   "metadata": {},
   "source": [
    "# SI"
   ]
  },
  {
   "cell_type": "code",
   "execution_count": null,
   "id": "a727b220-6470-4365-8154-9a91d9ff985e",
   "metadata": {},
   "outputs": [],
   "source": [
    "final_df_si = pd.DataFrame()\n",
    "\n",
    "start_date = datetime(2024, 10, 1)\n",
    "end_date = datetime(2024, 12, 31)\n",
    "current_date = start_date\n",
    "\n",
    "dataframes_si = []\n",
    "while current_date <= end_date:\n",
    "    # Get the first day of the current month\n",
    "    month_start = pd.Timestamp(current_date).replace(day=1)\n",
    "    \n",
    "    # Get the last day of the current month using MonthEnd\n",
    "    month_end = (month_start + pd.DateOffset(months=1)) - pd.DateOffset(days=1)\n",
    "\n",
    "    query_si_only = f'''\n",
    "    SELECT    \n",
    "    \tgs.parent_id as master_outlet_id,\n",
    "    \tSUM(CASE WHEN gs.eventAction IN ('click_to_call' , 'ev_click_to_call') THEN gs.totalEvents ELSE 0 END) AS 'SI_calls'\n",
    "        from ga_tracking_clickevent_datas gs  \n",
    "        where    gs.event_date between  '{month_start.strftime('%Y-%m-%d')}' and '{month_end.strftime('%Y-%m-%d')}'\n",
    "    GROUP BY master_outlet_id;\n",
    "    '''\n",
    "    month_df_si = pd.read_sql(query_si_only, con=sinterface)\n",
    "    print(month_df_si.shape)\n",
    "    if not month_df_si.empty:\n",
    "        # Add Timeline column with the format 'Y-m-01'\n",
    "        month_df_si = month_df_si.assign(Timeline=month_start.strftime('%Y-%m-01'))\n",
    "        dataframes_si.append(month_df_si)\n",
    "        print(f\"Data for {month_start.strftime('%Y-%m-%d')} to {month_end.strftime('%Y-%m-%d')} appended successfully\")\n",
    "    else:\n",
    "        print(f\"No data for {month_start.strftime('%Y-%m-%d')} to {month_end.strftime('%Y-%m-%d')}\")\n",
    "\n",
    "    dataframes_si.append(month_df_si)\n",
    "    # Move to the next month\n",
    "    current_date = month_end + pd.DateOffset(days=1)  # Start of next month"
   ]
  },
  {
   "cell_type": "code",
   "execution_count": null,
   "id": "d2bedc5d-5ffc-4a41-a610-d320c58b4af6",
   "metadata": {},
   "outputs": [],
   "source": [
    "final_df_si = pd.concat(dataframes_si, ignore_index=True)"
   ]
  },
  {
   "cell_type": "code",
   "execution_count": null,
   "id": "18cd6e3c-4068-49aa-890e-b45990e9324e",
   "metadata": {},
   "outputs": [],
   "source": [
    "final_df_si"
   ]
  },
  {
   "cell_type": "markdown",
   "id": "26ff8f14-d56a-422a-a534-e5b1c6d94615",
   "metadata": {},
   "source": [
    "# VMN"
   ]
  },
  {
   "cell_type": "code",
   "execution_count": null,
   "id": "b828ac24-f359-493b-b19f-092dba2408b4",
   "metadata": {},
   "outputs": [],
   "source": [
    "query_vmn = '''\n",
    "Select parent_id as master_outlet_id, \n",
    "count(id) as vmn_activated \n",
    "from\n",
    "outlets \n",
    "where id in (\n",
    "select distinct outlet_id\n",
    "FROM customer_call_record_logs)\n",
    "and delete_outlet is null and close_outlet is null\n",
    "group by master_outlet_id\n",
    "'''\n",
    "final_data_vmn = pd.read_sql(query_vmn, con=sinterface)"
   ]
  },
  {
   "cell_type": "code",
   "execution_count": null,
   "id": "b6a38791-2d25-4171-8560-d937ba98433f",
   "metadata": {},
   "outputs": [],
   "source": [
    "final_data_vmn[final_data_vmn['master_outlet_id'] == 321091]"
   ]
  },
  {
   "cell_type": "markdown",
   "id": "1af5e6f5-9cc5-4b30-8ae1-c222b762913a",
   "metadata": {},
   "source": [
    "# Calls Only"
   ]
  },
  {
   "cell_type": "code",
   "execution_count": null,
   "id": "0a281f4f-5111-4da0-8e21-2583c72b0d46",
   "metadata": {},
   "outputs": [],
   "source": [
    "final_df_callonly = pd.DataFrame()\n",
    "\n",
    "start_date = datetime(2024, 10, 1)\n",
    "end_date = datetime(2024, 12, 31)\n",
    "current_date = start_date\n",
    "\n",
    "dataframes_call_only = []\n",
    "while current_date <= end_date:\n",
    "    # Get the first day of the current month\n",
    "    month_start = pd.Timestamp(current_date).replace(day=1)\n",
    "    \n",
    "    # Get the last day of the current month using MonthEnd\n",
    "    month_end = (month_start + pd.DateOffset(months=1)) - pd.DateOffset(days=1)\n",
    "\n",
    "    query_call_only = f'''\n",
    "    Select  cl.master_outlet_id,\n",
    "        count(cl.id) as VMN_Calls,\n",
    "        AVG(TIMESTAMPDIFF(MINUTE, call_start_time, call_end_time)) AS Avg_duration\n",
    "        from  customer_call_record_logs cl \n",
    "    where call_date_time between '{month_start.strftime('%Y-%m-%d 00:00:00')}' and  '{month_end.strftime('%Y-%m-%d 23:59:59')}' and call_status in ('ANSWERED','Connected','Voicemail') \n",
    "    group by cl.master_outlet_id;\n",
    "    '''\n",
    "    month_df_call = pd.read_sql(query_call_only, con=sinterface)\n",
    "    print(month_df_call.shape)\n",
    "    if not month_df_call.empty:\n",
    "        # Add Timeline column with the format 'Y-m-01'\n",
    "        month_df_call = month_df_call.assign(Timeline=month_start.strftime('%Y-%m-01'))\n",
    "        dataframes_call_only.append(month_df_call)\n",
    "        print(f\"Data for {month_start.strftime('%Y-%m-%d')} to {month_end.strftime('%Y-%m-%d')} appended successfully\")\n",
    "    else:\n",
    "        print(f\"No data for {month_start.strftime('%Y-%m-%d')} to {month_end.strftime('%Y-%m-%d')}\")\n",
    "\n",
    "    dataframes_call_only.append(month_df_call)\n",
    "    # Move to the next month\n",
    "    current_date = month_end + pd.DateOffset(days=1)  # Start of next month"
   ]
  },
  {
   "cell_type": "code",
   "execution_count": null,
   "id": "d8b8536c-6fcc-4b48-858d-bdeff48531bf",
   "metadata": {},
   "outputs": [],
   "source": [
    "final_df_callonly = pd.concat(dataframes_call_only, ignore_index=True)"
   ]
  },
  {
   "cell_type": "code",
   "execution_count": null,
   "id": "2344b1e9-5b69-4a51-9b84-42da2c6c1574",
   "metadata": {},
   "outputs": [],
   "source": [
    "final_df_callonly"
   ]
  },
  {
   "cell_type": "markdown",
   "id": "56d7310e-178e-4d5d-8474-6e8161540b3e",
   "metadata": {},
   "source": [
    "# Hyper X"
   ]
  },
  {
   "cell_type": "code",
   "execution_count": null,
   "id": "1e26273a-cbb7-43bb-b5ab-3c1179076f9b",
   "metadata": {},
   "outputs": [],
   "source": [
    "final_df_hyper_x = pd.DataFrame()\n",
    "\n",
    "start_date = datetime(2024, 10, 1)\n",
    "end_date = datetime(2024, 12, 31)\n",
    "current_date = start_date\n",
    "\n",
    "dataframes_call_X = []\n",
    "while current_date <= end_date:\n",
    "    # Get the first day of the current month\n",
    "    month_start = pd.Timestamp(current_date).replace(day=1)\n",
    "    \n",
    "    # Get the last day of the current month using MonthEnd\n",
    "    month_end = (month_start + pd.DateOffset(months=1)) - pd.DateOffset(days=1)\n",
    "\n",
    "    query_hyper_x = f'''\n",
    "     Select  cl.master_outlet_id,\n",
    "         count(cl.id) as VMN_Hyperx_Calls,\n",
    "     COUNT(DISTINCT cl.outlet_id) AS Hyperx_active,\n",
    "        AVG(TIMESTAMPDIFF(MINUTE, call_start_time, call_end_time)) AS Avg_duration_Hyperx\n",
    "        from  customer_call_record_logs cl \n",
    "        inner join call_recording_details cd on cd.customer_call_record_id = cl.id and cd.master_outlet_id = cl.master_outlet_id and cl.outlet_id = cd.outlet_id\n",
    "    where call_date_time between  '{month_start.strftime('%Y-%m-%d 00:00:00')}' and  '{month_end.strftime('%Y-%m-%d 23:59:59')}' and call_status = 'Connected' and analytic_type = 'call' \n",
    "    group by cl.master_outlet_id;\n",
    "\n",
    "    '''\n",
    "    month_df_call_X = pd.read_sql(query_hyper_x, con=sinterface)\n",
    "    print(month_df_call_X.shape)\n",
    "    if not month_df_call_X.empty:\n",
    "        # Add Timeline column with the format 'Y-m-01'\n",
    "        month_df_call_X = month_df_call_X.assign(Timeline=month_start.strftime('%Y-%m-01'))\n",
    "        dataframes_call_X.append(month_df_call_X)\n",
    "        print(f\"Data for {month_start.strftime('%Y-%m-%d')} to {month_end.strftime('%Y-%m-%d')} appended successfully\")\n",
    "    else:\n",
    "        print(f\"No data for {month_start.strftime('%Y-%m-%d')} to {month_end.strftime('%Y-%m-%d')}\")\n",
    "\n",
    "    dataframes_call_X.append(month_df_call_X)\n",
    "    # Move to the next month\n",
    "    current_date = month_end + pd.DateOffset(days=1)  # Start of next month"
   ]
  },
  {
   "cell_type": "code",
   "execution_count": null,
   "id": "ea2a7657-bee1-4214-8c20-ec4aea274e86",
   "metadata": {},
   "outputs": [],
   "source": [
    "final_df_hyper_x = pd.concat(dataframes_call_X, ignore_index=True)"
   ]
  },
  {
   "cell_type": "code",
   "execution_count": null,
   "id": "f2176fcd-2957-4833-a7d2-e38026170dc5",
   "metadata": {},
   "outputs": [],
   "source": [
    "data1 = pd.merge(final_df_si_gmb, final_df_gmb, how = 'left', on= ['master_outlet_id', 'Timeline'] )"
   ]
  },
  {
   "cell_type": "code",
   "execution_count": null,
   "id": "ed883f4f-4cc4-4869-8786-e0fa1870005f",
   "metadata": {},
   "outputs": [],
   "source": [
    "data1 = data1.drop_duplicates()"
   ]
  },
  {
   "cell_type": "code",
   "execution_count": null,
   "id": "62c345b9-5d6e-42cd-aa28-a465906dd42e",
   "metadata": {},
   "outputs": [],
   "source": [
    "data2 = pd.merge(data1, final_df_si, how = 'left', on= ['master_outlet_id', 'Timeline'])\n",
    "data2 = data2.drop_duplicates()"
   ]
  },
  {
   "cell_type": "code",
   "execution_count": null,
   "id": "c9779c2d-2cc7-4a2a-a92f-eba072d29c17",
   "metadata": {},
   "outputs": [],
   "source": [
    "data3 = pd.merge(data2, final_data_vmn, how = 'left', on= ['master_outlet_id'])\n",
    "data3 = data3.drop_duplicates()"
   ]
  },
  {
   "cell_type": "code",
   "execution_count": null,
   "id": "c34ca884-39f0-4843-8ef6-591bd9bfe58e",
   "metadata": {},
   "outputs": [],
   "source": [
    "data4 = pd.merge(data3, final_df_callonly,  how = 'left', on= ['master_outlet_id', 'Timeline'])\n",
    "data4 = data4.drop_duplicates()"
   ]
  },
  {
   "cell_type": "code",
   "execution_count": null,
   "id": "5bb43308-3ca8-442c-a6cc-b0b00c9e0b44",
   "metadata": {},
   "outputs": [],
   "source": [
    "data5 = pd.merge(data4, final_df_hyper_x ,   how = 'left', on= ['master_outlet_id', 'Timeline'])\n",
    "data5 = data5.drop_duplicates()"
   ]
  },
  {
   "cell_type": "code",
   "execution_count": null,
   "id": "7d13546b-d333-4839-8891-36f727a6556d",
   "metadata": {},
   "outputs": [],
   "source": [
    "data5['Timeline'].unique()"
   ]
  },
  {
   "cell_type": "code",
   "execution_count": null,
   "id": "9d9d7498-85c0-473f-8246-716dca15ea9f",
   "metadata": {},
   "outputs": [],
   "source": [
    "data5.fillna(0, inplace = True)\n",
    "\n",
    "data5['order_id'] = data5['order_id'].astype('int')\n",
    "data5['master_outlet_id'] = data5['master_outlet_id'].astype('int')\n",
    "data5['SI_live'] = data5['SI_live'].astype('int')\n",
    "data5['GMB_Live'] = data5['GMB_Live'].astype('int')\n",
    "\n",
    "data5['Timeline'] = pd.to_datetime(data5['Timeline'])\n",
    "\n",
    "data5['GMB_calls'] = data5['GMB_calls'].astype('int')\n",
    "data5['SI_calls'] = data5['SI_calls'].astype('int')\n",
    "data5['vmn_activated'] = data5['vmn_activated'].astype('int')\n",
    "\n",
    "data5['Avg_duration'] = data5['Avg_duration'].round(2)\n",
    "data5['Hyperx_active'] = data5['Hyperx_active'].astype('int')\n",
    "data5['Avg_duration_Hyperx'] = data5['Avg_duration_Hyperx'].round(2)\n"
   ]
  },
  {
   "cell_type": "code",
   "execution_count": null,
   "id": "891a42bb-201b-45c2-b0c5-970dd1f3c7fd",
   "metadata": {},
   "outputs": [],
   "source": [
    "data5['VMN_Acti%'] = data5.apply(\n",
    "    lambda row: row['vmn_activated'] / max(row['GMB_Live'], row['SI_live']) if max(row['GMB_Live'], row['SI_live']) > 0 else 0,\n",
    "    axis=1\n",
    ")\n",
    "\n",
    "\n"
   ]
  },
  {
   "cell_type": "code",
   "execution_count": null,
   "id": "b6d119cb-6b87-492e-b1de-7424f9c62c77",
   "metadata": {},
   "outputs": [],
   "source": []
  },
  {
   "cell_type": "code",
   "execution_count": null,
   "id": "28c5c6f3-9338-467d-90fb-9553a4c46ab4",
   "metadata": {},
   "outputs": [],
   "source": [
    "data5['VMN_Acti%'] = data5['VMN_Acti%'].round(2)"
   ]
  },
  {
   "cell_type": "code",
   "execution_count": null,
   "id": "f1b6b395-aa95-4e41-8b6f-d8ed88e098ce",
   "metadata": {},
   "outputs": [],
   "source": [
    "data5.to_csv('VMN_related_data.csv')"
   ]
  },
  {
   "cell_type": "code",
   "execution_count": null,
   "id": "14d563c0-bbdc-4fca-9ddd-8640c0b68fe1",
   "metadata": {},
   "outputs": [],
   "source": []
  }
 ],
 "metadata": {
  "kernelspec": {
   "display_name": "Python 3 (ipykernel)",
   "language": "python",
   "name": "python3"
  },
  "language_info": {
   "codemirror_mode": {
    "name": "ipython",
    "version": 3
   },
   "file_extension": ".py",
   "mimetype": "text/x-python",
   "name": "python",
   "nbconvert_exporter": "python",
   "pygments_lexer": "ipython3",
   "version": "3.12.7"
  }
 },
 "nbformat": 4,
 "nbformat_minor": 5
}
